{
 "cells": [
  {
   "cell_type": "code",
   "execution_count": 39,
   "id": "initial_id",
   "metadata": {
    "ExecuteTime": {
     "end_time": "2023-12-18T09:33:49.288690100Z",
     "start_time": "2023-12-18T09:33:49.270213Z"
    },
    "collapsed": true
   },
   "outputs": [],
   "source": [
    "import pandas as pd\n",
    "import matplotlib.pyplot as plt\n",
    "import seaborn as sns\n",
    "import missingno as msno"
   ]
  },
  {
   "cell_type": "markdown",
   "id": "0187a5b6",
   "metadata": {},
   "source": [
    "### Загрузка датасета и создание оригинальной копии."
   ]
  },
  {
   "cell_type": "code",
   "execution_count": 40,
   "id": "7093fad6",
   "metadata": {
    "ExecuteTime": {
     "end_time": "2023-12-18T09:33:49.877724500Z",
     "start_time": "2023-12-18T09:33:49.286265200Z"
    }
   },
   "outputs": [
    {
     "data": {
      "text/html": [
       "<div>\n",
       "<style scoped>\n",
       "    .dataframe tbody tr th:only-of-type {\n",
       "        vertical-align: middle;\n",
       "    }\n",
       "\n",
       "    .dataframe tbody tr th {\n",
       "        vertical-align: top;\n",
       "    }\n",
       "\n",
       "    .dataframe thead th {\n",
       "        text-align: right;\n",
       "    }\n",
       "</style>\n",
       "<table border=\"1\" class=\"dataframe\">\n",
       "  <thead>\n",
       "    <tr style=\"text-align: right;\">\n",
       "      <th></th>\n",
       "      <th>brand</th>\n",
       "      <th>model</th>\n",
       "      <th>color</th>\n",
       "      <th>registration_date</th>\n",
       "      <th>year</th>\n",
       "      <th>price_in_euro</th>\n",
       "      <th>power_kw</th>\n",
       "      <th>power_ps</th>\n",
       "      <th>transmission_type</th>\n",
       "      <th>fuel_type</th>\n",
       "      <th>fuel_consumption_l_100km</th>\n",
       "      <th>fuel_consumption_g_km</th>\n",
       "      <th>mileage_in_km</th>\n",
       "      <th>offer_description</th>\n",
       "    </tr>\n",
       "    <tr>\n",
       "      <th>id</th>\n",
       "      <th></th>\n",
       "      <th></th>\n",
       "      <th></th>\n",
       "      <th></th>\n",
       "      <th></th>\n",
       "      <th></th>\n",
       "      <th></th>\n",
       "      <th></th>\n",
       "      <th></th>\n",
       "      <th></th>\n",
       "      <th></th>\n",
       "      <th></th>\n",
       "      <th></th>\n",
       "      <th></th>\n",
       "    </tr>\n",
       "  </thead>\n",
       "  <tbody>\n",
       "    <tr>\n",
       "      <th>0</th>\n",
       "      <td>alfa-romeo</td>\n",
       "      <td>Alfa Romeo GTV</td>\n",
       "      <td>red</td>\n",
       "      <td>10/1995</td>\n",
       "      <td>1995</td>\n",
       "      <td>1300</td>\n",
       "      <td>148</td>\n",
       "      <td>201</td>\n",
       "      <td>Manual</td>\n",
       "      <td>Petrol</td>\n",
       "      <td>10,9 l/100 km</td>\n",
       "      <td>260 g/km</td>\n",
       "      <td>160500.0</td>\n",
       "      <td>2.0 V6 TB</td>\n",
       "    </tr>\n",
       "    <tr>\n",
       "      <th>1</th>\n",
       "      <td>alfa-romeo</td>\n",
       "      <td>Alfa Romeo 164</td>\n",
       "      <td>black</td>\n",
       "      <td>02/1995</td>\n",
       "      <td>1995</td>\n",
       "      <td>24900</td>\n",
       "      <td>191</td>\n",
       "      <td>260</td>\n",
       "      <td>Manual</td>\n",
       "      <td>Petrol</td>\n",
       "      <td>NaN</td>\n",
       "      <td>- (g/km)</td>\n",
       "      <td>190000.0</td>\n",
       "      <td>Q4 Allrad, 3.2L GTA</td>\n",
       "    </tr>\n",
       "    <tr>\n",
       "      <th>2</th>\n",
       "      <td>alfa-romeo</td>\n",
       "      <td>Alfa Romeo Spider</td>\n",
       "      <td>black</td>\n",
       "      <td>02/1995</td>\n",
       "      <td>1995</td>\n",
       "      <td>5900</td>\n",
       "      <td>110</td>\n",
       "      <td>150</td>\n",
       "      <td>Unknown</td>\n",
       "      <td>Petrol</td>\n",
       "      <td>NaN</td>\n",
       "      <td>- (g/km)</td>\n",
       "      <td>129000.0</td>\n",
       "      <td>ALFA ROME 916</td>\n",
       "    </tr>\n",
       "    <tr>\n",
       "      <th>3</th>\n",
       "      <td>alfa-romeo</td>\n",
       "      <td>Alfa Romeo Spider</td>\n",
       "      <td>black</td>\n",
       "      <td>07/1995</td>\n",
       "      <td>1995</td>\n",
       "      <td>4900</td>\n",
       "      <td>110</td>\n",
       "      <td>150</td>\n",
       "      <td>Manual</td>\n",
       "      <td>Petrol</td>\n",
       "      <td>9,5 l/100 km</td>\n",
       "      <td>225 g/km</td>\n",
       "      <td>189500.0</td>\n",
       "      <td>2.0 16V Twin Spark L</td>\n",
       "    </tr>\n",
       "    <tr>\n",
       "      <th>4</th>\n",
       "      <td>alfa-romeo</td>\n",
       "      <td>Alfa Romeo 164</td>\n",
       "      <td>red</td>\n",
       "      <td>11/1996</td>\n",
       "      <td>1996</td>\n",
       "      <td>17950</td>\n",
       "      <td>132</td>\n",
       "      <td>179</td>\n",
       "      <td>Manual</td>\n",
       "      <td>Petrol</td>\n",
       "      <td>7,2 l/100 km</td>\n",
       "      <td>- (g/km)</td>\n",
       "      <td>96127.0</td>\n",
       "      <td>3.0i Super V6, absoluter Topzustand !</td>\n",
       "    </tr>\n",
       "    <tr>\n",
       "      <th>5</th>\n",
       "      <td>alfa-romeo</td>\n",
       "      <td>Alfa Romeo Spider</td>\n",
       "      <td>red</td>\n",
       "      <td>04/1996</td>\n",
       "      <td>1996</td>\n",
       "      <td>7900</td>\n",
       "      <td>110</td>\n",
       "      <td>150</td>\n",
       "      <td>Manual</td>\n",
       "      <td>Petrol</td>\n",
       "      <td>9,5 l/100 km</td>\n",
       "      <td>225 g/km</td>\n",
       "      <td>47307.0</td>\n",
       "      <td>2.0 16V Twin Spark</td>\n",
       "    </tr>\n",
       "    <tr>\n",
       "      <th>6</th>\n",
       "      <td>alfa-romeo</td>\n",
       "      <td>Alfa Romeo 145</td>\n",
       "      <td>red</td>\n",
       "      <td>12/1996</td>\n",
       "      <td>1996</td>\n",
       "      <td>3500</td>\n",
       "      <td>110</td>\n",
       "      <td>150</td>\n",
       "      <td>Manual</td>\n",
       "      <td>Petrol</td>\n",
       "      <td>8,8 l/100 km</td>\n",
       "      <td>210 g/km</td>\n",
       "      <td>230000.0</td>\n",
       "      <td>Quadrifoglio</td>\n",
       "    </tr>\n",
       "    <tr>\n",
       "      <th>7</th>\n",
       "      <td>alfa-romeo</td>\n",
       "      <td>Alfa Romeo 164</td>\n",
       "      <td>black</td>\n",
       "      <td>07/1996</td>\n",
       "      <td>1996</td>\n",
       "      <td>5500</td>\n",
       "      <td>132</td>\n",
       "      <td>179</td>\n",
       "      <td>Manual</td>\n",
       "      <td>Petrol</td>\n",
       "      <td>13,4 l/100 km</td>\n",
       "      <td>320 g/km</td>\n",
       "      <td>168000.0</td>\n",
       "      <td>(3.0) V6 Super</td>\n",
       "    </tr>\n",
       "    <tr>\n",
       "      <th>8</th>\n",
       "      <td>alfa-romeo</td>\n",
       "      <td>Alfa Romeo Spider</td>\n",
       "      <td>black</td>\n",
       "      <td>07/1996</td>\n",
       "      <td>1996</td>\n",
       "      <td>8990</td>\n",
       "      <td>141</td>\n",
       "      <td>192</td>\n",
       "      <td>Manual</td>\n",
       "      <td>Petrol</td>\n",
       "      <td>11 l/100 km</td>\n",
       "      <td>265 g/km</td>\n",
       "      <td>168600.0</td>\n",
       "      <td>|HU:neu|Klimaanlage|Youngtimer|</td>\n",
       "    </tr>\n",
       "    <tr>\n",
       "      <th>9</th>\n",
       "      <td>alfa-romeo</td>\n",
       "      <td>Alfa Romeo Spider</td>\n",
       "      <td>black</td>\n",
       "      <td>01/1996</td>\n",
       "      <td>1996</td>\n",
       "      <td>6976</td>\n",
       "      <td>110</td>\n",
       "      <td>150</td>\n",
       "      <td>Manual</td>\n",
       "      <td>Petrol</td>\n",
       "      <td>9,2 l/100 km</td>\n",
       "      <td>220 g/km</td>\n",
       "      <td>99000.0</td>\n",
       "      <td>2.0 T.Spark L *Klima *2.Hand *Zahnriemen</td>\n",
       "    </tr>\n",
       "  </tbody>\n",
       "</table>\n",
       "</div>"
      ],
      "text/plain": [
       "         brand              model  color registration_date  year  \\\n",
       "id                                                                 \n",
       "0   alfa-romeo     Alfa Romeo GTV    red           10/1995  1995   \n",
       "1   alfa-romeo     Alfa Romeo 164  black           02/1995  1995   \n",
       "2   alfa-romeo  Alfa Romeo Spider  black           02/1995  1995   \n",
       "3   alfa-romeo  Alfa Romeo Spider  black           07/1995  1995   \n",
       "4   alfa-romeo     Alfa Romeo 164    red           11/1996  1996   \n",
       "5   alfa-romeo  Alfa Romeo Spider    red           04/1996  1996   \n",
       "6   alfa-romeo     Alfa Romeo 145    red           12/1996  1996   \n",
       "7   alfa-romeo     Alfa Romeo 164  black           07/1996  1996   \n",
       "8   alfa-romeo  Alfa Romeo Spider  black           07/1996  1996   \n",
       "9   alfa-romeo  Alfa Romeo Spider  black           01/1996  1996   \n",
       "\n",
       "   price_in_euro power_kw power_ps transmission_type fuel_type  \\\n",
       "id                                                               \n",
       "0           1300      148      201            Manual    Petrol   \n",
       "1          24900      191      260            Manual    Petrol   \n",
       "2           5900      110      150           Unknown    Petrol   \n",
       "3           4900      110      150            Manual    Petrol   \n",
       "4          17950      132      179            Manual    Petrol   \n",
       "5           7900      110      150            Manual    Petrol   \n",
       "6           3500      110      150            Manual    Petrol   \n",
       "7           5500      132      179            Manual    Petrol   \n",
       "8           8990      141      192            Manual    Petrol   \n",
       "9           6976      110      150            Manual    Petrol   \n",
       "\n",
       "   fuel_consumption_l_100km fuel_consumption_g_km  mileage_in_km  \\\n",
       "id                                                                 \n",
       "0             10,9 l/100 km              260 g/km       160500.0   \n",
       "1                       NaN              - (g/km)       190000.0   \n",
       "2                       NaN              - (g/km)       129000.0   \n",
       "3              9,5 l/100 km              225 g/km       189500.0   \n",
       "4              7,2 l/100 km              - (g/km)        96127.0   \n",
       "5              9,5 l/100 km              225 g/km        47307.0   \n",
       "6              8,8 l/100 km              210 g/km       230000.0   \n",
       "7             13,4 l/100 km              320 g/km       168000.0   \n",
       "8               11 l/100 km              265 g/km       168600.0   \n",
       "9              9,2 l/100 km              220 g/km        99000.0   \n",
       "\n",
       "                           offer_description  \n",
       "id                                            \n",
       "0                                  2.0 V6 TB  \n",
       "1                        Q4 Allrad, 3.2L GTA  \n",
       "2                              ALFA ROME 916  \n",
       "3                       2.0 16V Twin Spark L  \n",
       "4      3.0i Super V6, absoluter Topzustand !  \n",
       "5                         2.0 16V Twin Spark  \n",
       "6                               Quadrifoglio  \n",
       "7                             (3.0) V6 Super  \n",
       "8            |HU:neu|Klimaanlage|Youngtimer|  \n",
       "9   2.0 T.Spark L *Klima *2.Hand *Zahnriemen  "
      ]
     },
     "execution_count": 40,
     "metadata": {},
     "output_type": "execute_result"
    }
   ],
   "source": [
    "df = pd.read_csv(\"german_used_cars.csv\", index_col=False)\n",
    "df_original = df.copy()\n",
    "df.rename(columns={df.columns[0]: \"id\"}, inplace=True)  # onnamed column into id column\n",
    "df.set_index(\"id\", drop=True, inplace=True)  # id col ass index\n",
    "df.head(10)"
   ]
  },
  {
   "cell_type": "markdown",
   "id": "274a9482",
   "metadata": {},
   "source": [
    "#### Вывод общей информации.\n"
   ]
  },
  {
   "cell_type": "code",
   "execution_count": 41,
   "id": "77885df5",
   "metadata": {
    "ExecuteTime": {
     "end_time": "2023-12-18T09:33:50.253068900Z",
     "start_time": "2023-12-18T09:33:49.888737200Z"
    }
   },
   "outputs": [
    {
     "data": {
      "text/plain": [
       "(251079, 14)"
      ]
     },
     "metadata": {},
     "output_type": "display_data"
    },
    {
     "name": "stdout",
     "output_type": "stream",
     "text": [
      "<class 'pandas.core.frame.DataFrame'>\n",
      "Index: 251079 entries, 0 to 251078\n",
      "Data columns (total 14 columns):\n",
      " #   Column                    Non-Null Count   Dtype  \n",
      "---  ------                    --------------   -----  \n",
      " 0   brand                     251079 non-null  object \n",
      " 1   model                     251079 non-null  object \n",
      " 2   color                     250913 non-null  object \n",
      " 3   registration_date         251075 non-null  object \n",
      " 4   year                      251079 non-null  object \n",
      " 5   price_in_euro             251079 non-null  object \n",
      " 6   power_kw                  250945 non-null  object \n",
      " 7   power_ps                  250950 non-null  object \n",
      " 8   transmission_type         251079 non-null  object \n",
      " 9   fuel_type                 251079 non-null  object \n",
      " 10  fuel_consumption_l_100km  224206 non-null  object \n",
      " 11  fuel_consumption_g_km     251079 non-null  object \n",
      " 12  mileage_in_km             250927 non-null  float64\n",
      " 13  offer_description         251078 non-null  object \n",
      "dtypes: float64(1), object(13)\n",
      "memory usage: 28.7+ MB\n"
     ]
    },
    {
     "data": {
      "text/plain": [
       "None"
      ]
     },
     "metadata": {},
     "output_type": "display_data"
    },
    {
     "data": {
      "text/html": [
       "<div>\n",
       "<style scoped>\n",
       "    .dataframe tbody tr th:only-of-type {\n",
       "        vertical-align: middle;\n",
       "    }\n",
       "\n",
       "    .dataframe tbody tr th {\n",
       "        vertical-align: top;\n",
       "    }\n",
       "\n",
       "    .dataframe thead th {\n",
       "        text-align: right;\n",
       "    }\n",
       "</style>\n",
       "<table border=\"1\" class=\"dataframe\">\n",
       "  <thead>\n",
       "    <tr style=\"text-align: right;\">\n",
       "      <th></th>\n",
       "      <th>brand</th>\n",
       "      <th>model</th>\n",
       "      <th>color</th>\n",
       "      <th>registration_date</th>\n",
       "      <th>year</th>\n",
       "      <th>price_in_euro</th>\n",
       "      <th>power_kw</th>\n",
       "      <th>power_ps</th>\n",
       "      <th>transmission_type</th>\n",
       "      <th>fuel_type</th>\n",
       "      <th>fuel_consumption_l_100km</th>\n",
       "      <th>fuel_consumption_g_km</th>\n",
       "      <th>mileage_in_km</th>\n",
       "      <th>offer_description</th>\n",
       "    </tr>\n",
       "  </thead>\n",
       "  <tbody>\n",
       "    <tr>\n",
       "      <th>count</th>\n",
       "      <td>251079</td>\n",
       "      <td>251079</td>\n",
       "      <td>250913</td>\n",
       "      <td>251075</td>\n",
       "      <td>251079</td>\n",
       "      <td>251079</td>\n",
       "      <td>250945</td>\n",
       "      <td>250950</td>\n",
       "      <td>251079</td>\n",
       "      <td>251079</td>\n",
       "      <td>224206</td>\n",
       "      <td>251079</td>\n",
       "      <td>2.509270e+05</td>\n",
       "      <td>251078</td>\n",
       "    </tr>\n",
       "    <tr>\n",
       "      <th>unique</th>\n",
       "      <td>47</td>\n",
       "      <td>1312</td>\n",
       "      <td>14</td>\n",
       "      <td>433</td>\n",
       "      <td>91</td>\n",
       "      <td>18228</td>\n",
       "      <td>596</td>\n",
       "      <td>578</td>\n",
       "      <td>4</td>\n",
       "      <td>136</td>\n",
       "      <td>621</td>\n",
       "      <td>1500</td>\n",
       "      <td>NaN</td>\n",
       "      <td>200945</td>\n",
       "    </tr>\n",
       "    <tr>\n",
       "      <th>top</th>\n",
       "      <td>volkswagen</td>\n",
       "      <td>Volkswagen Golf</td>\n",
       "      <td>black</td>\n",
       "      <td>03/2023</td>\n",
       "      <td>2019</td>\n",
       "      <td>19990</td>\n",
       "      <td>110</td>\n",
       "      <td>150</td>\n",
       "      <td>Automatic</td>\n",
       "      <td>Petrol</td>\n",
       "      <td>4,9 l/100 km</td>\n",
       "      <td>- (g/km)</td>\n",
       "      <td>NaN</td>\n",
       "      <td>Titanium</td>\n",
       "    </tr>\n",
       "    <tr>\n",
       "      <th>freq</th>\n",
       "      <td>33281</td>\n",
       "      <td>7588</td>\n",
       "      <td>58720</td>\n",
       "      <td>4746</td>\n",
       "      <td>29225</td>\n",
       "      <td>1592</td>\n",
       "      <td>25986</td>\n",
       "      <td>25987</td>\n",
       "      <td>131749</td>\n",
       "      <td>143280</td>\n",
       "      <td>8158</td>\n",
       "      <td>35809</td>\n",
       "      <td>NaN</td>\n",
       "      <td>174</td>\n",
       "    </tr>\n",
       "    <tr>\n",
       "      <th>mean</th>\n",
       "      <td>NaN</td>\n",
       "      <td>NaN</td>\n",
       "      <td>NaN</td>\n",
       "      <td>NaN</td>\n",
       "      <td>NaN</td>\n",
       "      <td>NaN</td>\n",
       "      <td>NaN</td>\n",
       "      <td>NaN</td>\n",
       "      <td>NaN</td>\n",
       "      <td>NaN</td>\n",
       "      <td>NaN</td>\n",
       "      <td>NaN</td>\n",
       "      <td>8.534002e+04</td>\n",
       "      <td>NaN</td>\n",
       "    </tr>\n",
       "    <tr>\n",
       "      <th>std</th>\n",
       "      <td>NaN</td>\n",
       "      <td>NaN</td>\n",
       "      <td>NaN</td>\n",
       "      <td>NaN</td>\n",
       "      <td>NaN</td>\n",
       "      <td>NaN</td>\n",
       "      <td>NaN</td>\n",
       "      <td>NaN</td>\n",
       "      <td>NaN</td>\n",
       "      <td>NaN</td>\n",
       "      <td>NaN</td>\n",
       "      <td>NaN</td>\n",
       "      <td>7.871706e+04</td>\n",
       "      <td>NaN</td>\n",
       "    </tr>\n",
       "    <tr>\n",
       "      <th>min</th>\n",
       "      <td>NaN</td>\n",
       "      <td>NaN</td>\n",
       "      <td>NaN</td>\n",
       "      <td>NaN</td>\n",
       "      <td>NaN</td>\n",
       "      <td>NaN</td>\n",
       "      <td>NaN</td>\n",
       "      <td>NaN</td>\n",
       "      <td>NaN</td>\n",
       "      <td>NaN</td>\n",
       "      <td>NaN</td>\n",
       "      <td>NaN</td>\n",
       "      <td>0.000000e+00</td>\n",
       "      <td>NaN</td>\n",
       "    </tr>\n",
       "    <tr>\n",
       "      <th>25%</th>\n",
       "      <td>NaN</td>\n",
       "      <td>NaN</td>\n",
       "      <td>NaN</td>\n",
       "      <td>NaN</td>\n",
       "      <td>NaN</td>\n",
       "      <td>NaN</td>\n",
       "      <td>NaN</td>\n",
       "      <td>NaN</td>\n",
       "      <td>NaN</td>\n",
       "      <td>NaN</td>\n",
       "      <td>NaN</td>\n",
       "      <td>NaN</td>\n",
       "      <td>2.490400e+04</td>\n",
       "      <td>NaN</td>\n",
       "    </tr>\n",
       "    <tr>\n",
       "      <th>50%</th>\n",
       "      <td>NaN</td>\n",
       "      <td>NaN</td>\n",
       "      <td>NaN</td>\n",
       "      <td>NaN</td>\n",
       "      <td>NaN</td>\n",
       "      <td>NaN</td>\n",
       "      <td>NaN</td>\n",
       "      <td>NaN</td>\n",
       "      <td>NaN</td>\n",
       "      <td>NaN</td>\n",
       "      <td>NaN</td>\n",
       "      <td>NaN</td>\n",
       "      <td>6.750000e+04</td>\n",
       "      <td>NaN</td>\n",
       "    </tr>\n",
       "    <tr>\n",
       "      <th>75%</th>\n",
       "      <td>NaN</td>\n",
       "      <td>NaN</td>\n",
       "      <td>NaN</td>\n",
       "      <td>NaN</td>\n",
       "      <td>NaN</td>\n",
       "      <td>NaN</td>\n",
       "      <td>NaN</td>\n",
       "      <td>NaN</td>\n",
       "      <td>NaN</td>\n",
       "      <td>NaN</td>\n",
       "      <td>NaN</td>\n",
       "      <td>NaN</td>\n",
       "      <td>1.265000e+05</td>\n",
       "      <td>NaN</td>\n",
       "    </tr>\n",
       "    <tr>\n",
       "      <th>max</th>\n",
       "      <td>NaN</td>\n",
       "      <td>NaN</td>\n",
       "      <td>NaN</td>\n",
       "      <td>NaN</td>\n",
       "      <td>NaN</td>\n",
       "      <td>NaN</td>\n",
       "      <td>NaN</td>\n",
       "      <td>NaN</td>\n",
       "      <td>NaN</td>\n",
       "      <td>NaN</td>\n",
       "      <td>NaN</td>\n",
       "      <td>NaN</td>\n",
       "      <td>3.800000e+06</td>\n",
       "      <td>NaN</td>\n",
       "    </tr>\n",
       "  </tbody>\n",
       "</table>\n",
       "</div>"
      ],
      "text/plain": [
       "             brand            model   color registration_date    year  \\\n",
       "count       251079           251079  250913            251075  251079   \n",
       "unique          47             1312      14               433      91   \n",
       "top     volkswagen  Volkswagen Golf   black           03/2023    2019   \n",
       "freq         33281             7588   58720              4746   29225   \n",
       "mean           NaN              NaN     NaN               NaN     NaN   \n",
       "std            NaN              NaN     NaN               NaN     NaN   \n",
       "min            NaN              NaN     NaN               NaN     NaN   \n",
       "25%            NaN              NaN     NaN               NaN     NaN   \n",
       "50%            NaN              NaN     NaN               NaN     NaN   \n",
       "75%            NaN              NaN     NaN               NaN     NaN   \n",
       "max            NaN              NaN     NaN               NaN     NaN   \n",
       "\n",
       "       price_in_euro power_kw power_ps transmission_type fuel_type  \\\n",
       "count         251079   250945   250950            251079    251079   \n",
       "unique         18228      596      578                 4       136   \n",
       "top            19990      110      150         Automatic    Petrol   \n",
       "freq            1592    25986    25987            131749    143280   \n",
       "mean             NaN      NaN      NaN               NaN       NaN   \n",
       "std              NaN      NaN      NaN               NaN       NaN   \n",
       "min              NaN      NaN      NaN               NaN       NaN   \n",
       "25%              NaN      NaN      NaN               NaN       NaN   \n",
       "50%              NaN      NaN      NaN               NaN       NaN   \n",
       "75%              NaN      NaN      NaN               NaN       NaN   \n",
       "max              NaN      NaN      NaN               NaN       NaN   \n",
       "\n",
       "       fuel_consumption_l_100km fuel_consumption_g_km  mileage_in_km  \\\n",
       "count                    224206                251079   2.509270e+05   \n",
       "unique                      621                  1500            NaN   \n",
       "top                4,9 l/100 km              - (g/km)            NaN   \n",
       "freq                       8158                 35809            NaN   \n",
       "mean                        NaN                   NaN   8.534002e+04   \n",
       "std                         NaN                   NaN   7.871706e+04   \n",
       "min                         NaN                   NaN   0.000000e+00   \n",
       "25%                         NaN                   NaN   2.490400e+04   \n",
       "50%                         NaN                   NaN   6.750000e+04   \n",
       "75%                         NaN                   NaN   1.265000e+05   \n",
       "max                         NaN                   NaN   3.800000e+06   \n",
       "\n",
       "       offer_description  \n",
       "count             251078  \n",
       "unique            200945  \n",
       "top             Titanium  \n",
       "freq                 174  \n",
       "mean                 NaN  \n",
       "std                  NaN  \n",
       "min                  NaN  \n",
       "25%                  NaN  \n",
       "50%                  NaN  \n",
       "75%                  NaN  \n",
       "max                  NaN  "
      ]
     },
     "metadata": {},
     "output_type": "display_data"
    }
   ],
   "source": [
    "display(df.shape)\n",
    "display(df.info())\n",
    "display(df.describe(include=\"all\"))"
   ]
  },
  {
   "cell_type": "markdown",
   "id": "0c74dfab",
   "metadata": {},
   "source": [
    "### Поиск проблем и корректировка данных.\n"
   ]
  },
  {
   "cell_type": "markdown",
   "id": "de189ea0",
   "metadata": {},
   "source": [
    "brand model проблем не найдено\n"
   ]
  },
  {
   "cell_type": "code",
   "execution_count": 42,
   "id": "a8375792",
   "metadata": {
    "ExecuteTime": {
     "end_time": "2023-12-18T09:34:54.457334900Z",
     "start_time": "2023-12-18T09:34:54.404057500Z"
    }
   },
   "outputs": [
    {
     "data": {
      "text/plain": [
       "array(['alfa-romeo', 'aston-martin', 'audi', 'bentley', 'bmw', 'cadillac',\n",
       "       'chevrolet', 'chrysler', 'citroen', 'dacia', 'daewoo', 'daihatsu',\n",
       "       'dodge', 'ferrari', 'fiat', 'ford', 'honda', 'hyundai', 'infiniti',\n",
       "       'isuzu', 'jaguar', 'jeep', 'kia', 'lada', 'lamborghini', 'lancia',\n",
       "       'land-rover', 'maserati', 'mazda', 'mercedes-benz', 'mini',\n",
       "       'mitsubishi', 'nissan', 'opel', 'peugeot', 'porsche', 'proton',\n",
       "       'renault', 'rover', 'saab', 'seat', 'skoda', 'smart', 'ssangyong',\n",
       "       'toyota', 'volkswagen', 'volvo'], dtype=object)"
      ]
     },
     "metadata": {},
     "output_type": "display_data"
    },
    {
     "data": {
      "text/plain": [
       "0"
      ]
     },
     "metadata": {},
     "output_type": "display_data"
    },
    {
     "data": {
      "text/plain": [
       "array(['Alfa Romeo GTV', 'Alfa Romeo 164', 'Alfa Romeo Spider', ...,\n",
       "       'Volvo XC40', 'Volvo C40', 'Volvo'], dtype=object)"
      ]
     },
     "metadata": {},
     "output_type": "display_data"
    },
    {
     "data": {
      "text/plain": [
       "0"
      ]
     },
     "metadata": {},
     "output_type": "display_data"
    }
   ],
   "source": [
    "display(df[\"brand\"].unique())\n",
    "display(df[\"brand\"].isna().sum())\n",
    "display(df[\"model\"].unique())\n",
    "display(df[\"model\"].isna().sum())"
   ]
  },
  {
   "cell_type": "markdown",
   "id": "2fc6c90d",
   "metadata": {},
   "source": [
    "Столбец Color содержит nan, заполним самым популярным цветом.<br>\n",
    "Идея в том, что самый популярный цвет скорее всего будет нейтральным к остальным данным т.к. будет присутствовать во всех остальных случаях.\n"
   ]
  },
  {
   "cell_type": "code",
   "execution_count": 43,
   "id": "a79a9da3",
   "metadata": {},
   "outputs": [
    {
     "data": {
      "text/plain": [
       "array(['red', 'black', 'silver', 'grey', 'white', 'beige', 'blue',\n",
       "       'green', 'yellow', 'gold', 'brown', 'bronze', 'violet', 'orange',\n",
       "       nan], dtype=object)"
      ]
     },
     "metadata": {},
     "output_type": "display_data"
    },
    {
     "data": {
      "text/plain": [
       "166"
      ]
     },
     "metadata": {},
     "output_type": "display_data"
    },
    {
     "data": {
      "text/plain": [
       "0"
      ]
     },
     "metadata": {},
     "output_type": "display_data"
    }
   ],
   "source": [
    "# plt.figure(figsize=(10, 3))\n",
    "display(df[\"color\"].unique())\n",
    "display(df[\"color\"].isna().sum())\n",
    "# sns.countplot(data=df[\"color\"])\n",
    "df[\"color\"].fillna(df[\"color\"].mode()[0], inplace=True)\n",
    "display(df[\"color\"].isna().sum())"
   ]
  },
  {
   "cell_type": "markdown",
   "id": "7ed7da93",
   "metadata": {},
   "source": [
    "##### В столбце year обнаружены некорректные вхождения в данных (данные из других столбцов), в связи нецелесообразностью построчного редактирования датасета, а так же незначительностью таких данных по ообъему, принято решение удалить некорректные данные."
   ]
  },
  {
   "cell_type": "code",
   "execution_count": 44,
   "id": "ac15f48f",
   "metadata": {},
   "outputs": [
    {
     "data": {
      "text/plain": [
       "array(['1995', '1996', '1997', '1998', '1999', '2000', '2001', '2002',\n",
       "       '2003', '2004', '2005', '2006', '2007', '2008', '2009', '2010',\n",
       "       '2011', '2012', '2013', '2014', '2015', '2016', '2017', '2018',\n",
       "       '2019', '2020', '2021', '2022', '2023', 'Petrol', 'Automatic',\n",
       "       'Manual', 'Diesel', '04/2017', 'Electric', '12/2003', '3700',\n",
       "       '05/2017', '04/2006', 'LPG', '8.000 km', '113.000 km', '32.250 km',\n",
       "       '02/2020', '06/2021', '07/2021', 'Hybrid', '03/2023', '01/2019',\n",
       "       '10/2010', '280.000 km', '03/2015', '10/2016', '06/2016',\n",
       "       '80.000 km', '06/2018', '09/2018', '39.900 km', '18.990 km',\n",
       "       '05/2023', '04/2013', '05/2015', '05/2016', '07/2018', '12/2022',\n",
       "       '12/2020', '05/2021', '108.500 km', '11/2018', '33.150 km',\n",
       "       '12.520 km', '15.180 km', '6.500 km', '64.500 km', '03/2019',\n",
       "       '27449', '1.000 km', '01/2023', '02/2023', '06/2023', '11/2013',\n",
       "       '14990', '49.000 km', '04/2023', '03/2007', '159.400 km',\n",
       "       '217.946 km', '10900', '75.700 km', '243.431 km', 'CNG'],\n",
       "      dtype=object)"
      ]
     },
     "execution_count": 44,
     "metadata": {},
     "output_type": "execute_result"
    }
   ],
   "source": [
    "# df[\"year\"] = df[\"year\"].astype(\"int\")\n",
    "df[\"year\"].unique()"
   ]
  },
  {
   "cell_type": "code",
   "execution_count": 45,
   "id": "3982e764",
   "metadata": {},
   "outputs": [
    {
     "data": {
      "text/plain": [
       "array([1995, 1996, 1997, 1998, 1999, 2000, 2001, 2002, 2003, 2004, 2005,\n",
       "       2006, 2007, 2008, 2009, 2010, 2011, 2012, 2013, 2014, 2015, 2016,\n",
       "       2017, 2018, 2019, 2020, 2021, 2022, 2023])"
      ]
     },
     "execution_count": 45,
     "metadata": {},
     "output_type": "execute_result"
    }
   ],
   "source": [
    "year_to_del = df[~df[\"year\"].str.isdigit()]\n",
    "df.drop(year_to_del.index, inplace=True)\n",
    "df[\"year\"] = df[\"year\"].astype(\"int\")\n",
    "df.drop(df[df[\"year\"] > 2025].index, inplace=True)\n",
    "df[\"year\"].unique()"
   ]
  },
  {
   "cell_type": "markdown",
   "id": "49c09edf",
   "metadata": {},
   "source": [
    "Замечено, что многие числовые столбцы являются типом данных object, что затруднит проведение с ними числовых расчетов.<br>\n",
    "Попробуем привести все столбцы с числовыми данными к типу int или float и заполнить пропуски."
   ]
  },
  {
   "cell_type": "code",
   "execution_count": 46,
   "id": "5497a135",
   "metadata": {},
   "outputs": [],
   "source": [
    "df[\"price_in_euro\"] = df[\"price_in_euro\"].astype(\"int64\")"
   ]
  },
  {
   "cell_type": "code",
   "execution_count": 47,
   "id": "612e53ee",
   "metadata": {},
   "outputs": [
    {
     "data": {
      "text/plain": [
       "id\n",
       "0         148.0\n",
       "1         191.0\n",
       "2         110.0\n",
       "3         110.0\n",
       "4         132.0\n",
       "          ...  \n",
       "251074    192.0\n",
       "251075    173.0\n",
       "251076    145.0\n",
       "251077    132.0\n",
       "251078    160.0\n",
       "Name: power_kw, Length: 250880, dtype: Float64"
      ]
     },
     "execution_count": 47,
     "metadata": {},
     "output_type": "execute_result"
    }
   ],
   "source": [
    "df[\"power_kw\"] = round(df[\"power_kw\"].astype(\"Float64\"))\n",
    "ee = df.groupby(\"model\")[\"power_kw\"].transform(\"mean\")\n",
    "df[\"power_kw\"].fillna(ee, inplace=True)\n",
    "df[\"power_kw\"]"
   ]
  },
  {
   "cell_type": "markdown",
   "id": "4369d0f9",
   "metadata": {},
   "source": [
    "Замена Unknown коробки передач, на Manual"
   ]
  },
  {
   "cell_type": "code",
   "execution_count": 48,
   "id": "c3ab52cd",
   "metadata": {},
   "outputs": [],
   "source": [
    "df[\"transmission_type\"].replace(\"Unknown\", \"Manual\", inplace=True)"
   ]
  },
  {
   "cell_type": "code",
   "execution_count": 49,
   "id": "60c172c2",
   "metadata": {},
   "outputs": [
    {
     "data": {
      "text/html": [
       "<div>\n",
       "<style scoped>\n",
       "    .dataframe tbody tr th:only-of-type {\n",
       "        vertical-align: middle;\n",
       "    }\n",
       "\n",
       "    .dataframe tbody tr th {\n",
       "        vertical-align: top;\n",
       "    }\n",
       "\n",
       "    .dataframe thead th {\n",
       "        text-align: right;\n",
       "    }\n",
       "</style>\n",
       "<table border=\"1\" class=\"dataframe\">\n",
       "  <thead>\n",
       "    <tr style=\"text-align: right;\">\n",
       "      <th></th>\n",
       "      <th>year</th>\n",
       "      <th>price_in_euro</th>\n",
       "      <th>power_kw</th>\n",
       "      <th>mileage_in_km</th>\n",
       "    </tr>\n",
       "  </thead>\n",
       "  <tbody>\n",
       "    <tr>\n",
       "      <th>count</th>\n",
       "      <td>250880.000000</td>\n",
       "      <td>2.508800e+05</td>\n",
       "      <td>250879.0</td>\n",
       "      <td>2.508180e+05</td>\n",
       "    </tr>\n",
       "    <tr>\n",
       "      <th>mean</th>\n",
       "      <td>2016.263166</td>\n",
       "      <td>2.613753e+04</td>\n",
       "      <td>126.235726</td>\n",
       "      <td>8.536867e+04</td>\n",
       "    </tr>\n",
       "    <tr>\n",
       "      <th>std</th>\n",
       "      <td>5.463043</td>\n",
       "      <td>3.698795e+04</td>\n",
       "      <td>72.078083</td>\n",
       "      <td>7.872133e+04</td>\n",
       "    </tr>\n",
       "    <tr>\n",
       "      <th>min</th>\n",
       "      <td>1995.000000</td>\n",
       "      <td>1.200000e+02</td>\n",
       "      <td>1.0</td>\n",
       "      <td>0.000000e+00</td>\n",
       "    </tr>\n",
       "    <tr>\n",
       "      <th>25%</th>\n",
       "      <td>2013.000000</td>\n",
       "      <td>1.199000e+04</td>\n",
       "      <td>82.0</td>\n",
       "      <td>2.495000e+04</td>\n",
       "    </tr>\n",
       "    <tr>\n",
       "      <th>50%</th>\n",
       "      <td>2018.000000</td>\n",
       "      <td>1.989000e+04</td>\n",
       "      <td>110.0</td>\n",
       "      <td>6.751500e+04</td>\n",
       "    </tr>\n",
       "    <tr>\n",
       "      <th>75%</th>\n",
       "      <td>2020.000000</td>\n",
       "      <td>2.995000e+04</td>\n",
       "      <td>140.0</td>\n",
       "      <td>1.265385e+05</td>\n",
       "    </tr>\n",
       "    <tr>\n",
       "      <th>max</th>\n",
       "      <td>2023.000000</td>\n",
       "      <td>5.890500e+06</td>\n",
       "      <td>735.0</td>\n",
       "      <td>3.800000e+06</td>\n",
       "    </tr>\n",
       "  </tbody>\n",
       "</table>\n",
       "</div>"
      ],
      "text/plain": [
       "                year  price_in_euro    power_kw  mileage_in_km\n",
       "count  250880.000000   2.508800e+05    250879.0   2.508180e+05\n",
       "mean     2016.263166   2.613753e+04  126.235726   8.536867e+04\n",
       "std         5.463043   3.698795e+04   72.078083   7.872133e+04\n",
       "min      1995.000000   1.200000e+02         1.0   0.000000e+00\n",
       "25%      2013.000000   1.199000e+04        82.0   2.495000e+04\n",
       "50%      2018.000000   1.989000e+04       110.0   6.751500e+04\n",
       "75%      2020.000000   2.995000e+04       140.0   1.265385e+05\n",
       "max      2023.000000   5.890500e+06       735.0   3.800000e+06"
      ]
     },
     "execution_count": 49,
     "metadata": {},
     "output_type": "execute_result"
    }
   ],
   "source": [
    "df.describe()"
   ]
  },
  {
   "cell_type": "markdown",
   "id": "d946a006",
   "metadata": {},
   "source": [
    "#### Возникло предположение о необходимости замены категориальных данных числовыми, для того чтобы над ними можно было проводить статистические исследования. Что и было сделано далее.<br>\n",
    "Оригинальный датасет содержит оригинальные данные для сравнения."
   ]
  },
  {
   "cell_type": "code",
   "execution_count": 50,
   "id": "6b6ffd10",
   "metadata": {},
   "outputs": [
    {
     "data": {
      "text/html": [
       "<div>\n",
       "<style scoped>\n",
       "    .dataframe tbody tr th:only-of-type {\n",
       "        vertical-align: middle;\n",
       "    }\n",
       "\n",
       "    .dataframe tbody tr th {\n",
       "        vertical-align: top;\n",
       "    }\n",
       "\n",
       "    .dataframe thead th {\n",
       "        text-align: right;\n",
       "    }\n",
       "</style>\n",
       "<table border=\"1\" class=\"dataframe\">\n",
       "  <thead>\n",
       "    <tr style=\"text-align: right;\">\n",
       "      <th></th>\n",
       "      <th>brand</th>\n",
       "      <th>model</th>\n",
       "      <th>color</th>\n",
       "      <th>registration_date</th>\n",
       "      <th>power_ps</th>\n",
       "      <th>transmission_type</th>\n",
       "      <th>fuel_type</th>\n",
       "      <th>fuel_consumption_l_100km</th>\n",
       "      <th>fuel_consumption_g_km</th>\n",
       "      <th>offer_description</th>\n",
       "    </tr>\n",
       "    <tr>\n",
       "      <th>id</th>\n",
       "      <th></th>\n",
       "      <th></th>\n",
       "      <th></th>\n",
       "      <th></th>\n",
       "      <th></th>\n",
       "      <th></th>\n",
       "      <th></th>\n",
       "      <th></th>\n",
       "      <th></th>\n",
       "      <th></th>\n",
       "    </tr>\n",
       "  </thead>\n",
       "  <tbody>\n",
       "    <tr>\n",
       "      <th>0</th>\n",
       "      <td>alfa-romeo</td>\n",
       "      <td>Alfa Romeo GTV</td>\n",
       "      <td>red</td>\n",
       "      <td>10/1995</td>\n",
       "      <td>201</td>\n",
       "      <td>Manual</td>\n",
       "      <td>Petrol</td>\n",
       "      <td>10,9 l/100 km</td>\n",
       "      <td>260 g/km</td>\n",
       "      <td>2.0 V6 TB</td>\n",
       "    </tr>\n",
       "    <tr>\n",
       "      <th>1</th>\n",
       "      <td>alfa-romeo</td>\n",
       "      <td>Alfa Romeo 164</td>\n",
       "      <td>black</td>\n",
       "      <td>02/1995</td>\n",
       "      <td>260</td>\n",
       "      <td>Manual</td>\n",
       "      <td>Petrol</td>\n",
       "      <td>NaN</td>\n",
       "      <td>- (g/km)</td>\n",
       "      <td>Q4 Allrad, 3.2L GTA</td>\n",
       "    </tr>\n",
       "    <tr>\n",
       "      <th>2</th>\n",
       "      <td>alfa-romeo</td>\n",
       "      <td>Alfa Romeo Spider</td>\n",
       "      <td>black</td>\n",
       "      <td>02/1995</td>\n",
       "      <td>150</td>\n",
       "      <td>Manual</td>\n",
       "      <td>Petrol</td>\n",
       "      <td>NaN</td>\n",
       "      <td>- (g/km)</td>\n",
       "      <td>ALFA ROME 916</td>\n",
       "    </tr>\n",
       "    <tr>\n",
       "      <th>3</th>\n",
       "      <td>alfa-romeo</td>\n",
       "      <td>Alfa Romeo Spider</td>\n",
       "      <td>black</td>\n",
       "      <td>07/1995</td>\n",
       "      <td>150</td>\n",
       "      <td>Manual</td>\n",
       "      <td>Petrol</td>\n",
       "      <td>9,5 l/100 km</td>\n",
       "      <td>225 g/km</td>\n",
       "      <td>2.0 16V Twin Spark L</td>\n",
       "    </tr>\n",
       "    <tr>\n",
       "      <th>4</th>\n",
       "      <td>alfa-romeo</td>\n",
       "      <td>Alfa Romeo 164</td>\n",
       "      <td>red</td>\n",
       "      <td>11/1996</td>\n",
       "      <td>179</td>\n",
       "      <td>Manual</td>\n",
       "      <td>Petrol</td>\n",
       "      <td>7,2 l/100 km</td>\n",
       "      <td>- (g/km)</td>\n",
       "      <td>3.0i Super V6, absoluter Topzustand !</td>\n",
       "    </tr>\n",
       "  </tbody>\n",
       "</table>\n",
       "</div>"
      ],
      "text/plain": [
       "         brand              model  color registration_date power_ps  \\\n",
       "id                                                                    \n",
       "0   alfa-romeo     Alfa Romeo GTV    red           10/1995      201   \n",
       "1   alfa-romeo     Alfa Romeo 164  black           02/1995      260   \n",
       "2   alfa-romeo  Alfa Romeo Spider  black           02/1995      150   \n",
       "3   alfa-romeo  Alfa Romeo Spider  black           07/1995      150   \n",
       "4   alfa-romeo     Alfa Romeo 164    red           11/1996      179   \n",
       "\n",
       "   transmission_type fuel_type fuel_consumption_l_100km fuel_consumption_g_km  \\\n",
       "id                                                                              \n",
       "0             Manual    Petrol            10,9 l/100 km              260 g/km   \n",
       "1             Manual    Petrol                      NaN              - (g/km)   \n",
       "2             Manual    Petrol                      NaN              - (g/km)   \n",
       "3             Manual    Petrol             9,5 l/100 km              225 g/km   \n",
       "4             Manual    Petrol             7,2 l/100 km              - (g/km)   \n",
       "\n",
       "                        offer_description  \n",
       "id                                         \n",
       "0                               2.0 V6 TB  \n",
       "1                     Q4 Allrad, 3.2L GTA  \n",
       "2                           ALFA ROME 916  \n",
       "3                    2.0 16V Twin Spark L  \n",
       "4   3.0i Super V6, absoluter Topzustand !  "
      ]
     },
     "execution_count": 50,
     "metadata": {},
     "output_type": "execute_result"
    }
   ],
   "source": [
    "df.select_dtypes(exclude=\"number\").head()"
   ]
  },
  {
   "cell_type": "code",
   "execution_count": 51,
   "id": "849f99fd",
   "metadata": {},
   "outputs": [],
   "source": [
    "associations_dict = {\n",
    "    \"Manual\": 0,\n",
    "    \"Automatic\": 2,\n",
    "    \"Semi-automatic\": 1,\n",
    "}\n",
    "df[\"transmission_type\"].replace(associations_dict, inplace=True)  # opp it works!!"
   ]
  },
  {
   "cell_type": "code",
   "execution_count": 52,
   "id": "bd1d6d32",
   "metadata": {},
   "outputs": [
    {
     "data": {
      "text/plain": [
       "{'Petrol': 1,\n",
       " 'Diesel': 2,\n",
       " 'Hybrid': 3,\n",
       " 'LPG': 4,\n",
       " 'Other': 5,\n",
       " 'CNG': 6,\n",
       " 'Diesel Hybrid': 7,\n",
       " 'Electric': 8,\n",
       " 'Unknown': 9,\n",
       " 'Ethanol': 10,\n",
       " 'Hydrogen': 11}"
      ]
     },
     "metadata": {},
     "output_type": "display_data"
    }
   ],
   "source": [
    "associations_counter = 1\n",
    "associations_dict2 = {}\n",
    "for item in df[\"fuel_type\"].unique():\n",
    "    if item not in associations_dict2:\n",
    "        associations_dict2[item] = associations_counter\n",
    "        associations_counter += 1\n",
    "display(associations_dict2)\n",
    "df[\"fuel_type\"].replace(associations_dict2, inplace=True)"
   ]
  },
  {
   "cell_type": "code",
   "execution_count": 53,
   "id": "38527a7f",
   "metadata": {},
   "outputs": [
    {
     "data": {
      "text/html": [
       "<div>\n",
       "<style scoped>\n",
       "    .dataframe tbody tr th:only-of-type {\n",
       "        vertical-align: middle;\n",
       "    }\n",
       "\n",
       "    .dataframe tbody tr th {\n",
       "        vertical-align: top;\n",
       "    }\n",
       "\n",
       "    .dataframe thead th {\n",
       "        text-align: right;\n",
       "    }\n",
       "</style>\n",
       "<table border=\"1\" class=\"dataframe\">\n",
       "  <thead>\n",
       "    <tr style=\"text-align: right;\">\n",
       "      <th></th>\n",
       "      <th>year</th>\n",
       "      <th>price_in_euro</th>\n",
       "      <th>power_kw</th>\n",
       "      <th>transmission_type</th>\n",
       "      <th>fuel_type</th>\n",
       "      <th>mileage_in_km</th>\n",
       "    </tr>\n",
       "  </thead>\n",
       "  <tbody>\n",
       "    <tr>\n",
       "      <th>count</th>\n",
       "      <td>250880.000000</td>\n",
       "      <td>2.508800e+05</td>\n",
       "      <td>250879.0</td>\n",
       "      <td>250880.000000</td>\n",
       "      <td>250880.000000</td>\n",
       "      <td>2.508180e+05</td>\n",
       "    </tr>\n",
       "    <tr>\n",
       "      <th>mean</th>\n",
       "      <td>2016.263166</td>\n",
       "      <td>2.613753e+04</td>\n",
       "      <td>126.235726</td>\n",
       "      <td>1.050690</td>\n",
       "      <td>1.657506</td>\n",
       "      <td>8.536867e+04</td>\n",
       "    </tr>\n",
       "    <tr>\n",
       "      <th>std</th>\n",
       "      <td>5.463043</td>\n",
       "      <td>3.698795e+04</td>\n",
       "      <td>72.078083</td>\n",
       "      <td>0.998084</td>\n",
       "      <td>1.230569</td>\n",
       "      <td>7.872133e+04</td>\n",
       "    </tr>\n",
       "    <tr>\n",
       "      <th>min</th>\n",
       "      <td>1995.000000</td>\n",
       "      <td>1.200000e+02</td>\n",
       "      <td>1.0</td>\n",
       "      <td>0.000000</td>\n",
       "      <td>1.000000</td>\n",
       "      <td>0.000000e+00</td>\n",
       "    </tr>\n",
       "    <tr>\n",
       "      <th>25%</th>\n",
       "      <td>2013.000000</td>\n",
       "      <td>1.199000e+04</td>\n",
       "      <td>82.0</td>\n",
       "      <td>0.000000</td>\n",
       "      <td>1.000000</td>\n",
       "      <td>2.495000e+04</td>\n",
       "    </tr>\n",
       "    <tr>\n",
       "      <th>50%</th>\n",
       "      <td>2018.000000</td>\n",
       "      <td>1.989000e+04</td>\n",
       "      <td>110.0</td>\n",
       "      <td>2.000000</td>\n",
       "      <td>1.000000</td>\n",
       "      <td>6.751500e+04</td>\n",
       "    </tr>\n",
       "    <tr>\n",
       "      <th>75%</th>\n",
       "      <td>2020.000000</td>\n",
       "      <td>2.995000e+04</td>\n",
       "      <td>140.0</td>\n",
       "      <td>2.000000</td>\n",
       "      <td>2.000000</td>\n",
       "      <td>1.265385e+05</td>\n",
       "    </tr>\n",
       "    <tr>\n",
       "      <th>max</th>\n",
       "      <td>2023.000000</td>\n",
       "      <td>5.890500e+06</td>\n",
       "      <td>735.0</td>\n",
       "      <td>2.000000</td>\n",
       "      <td>11.000000</td>\n",
       "      <td>3.800000e+06</td>\n",
       "    </tr>\n",
       "  </tbody>\n",
       "</table>\n",
       "</div>"
      ],
      "text/plain": [
       "                year  price_in_euro    power_kw  transmission_type  \\\n",
       "count  250880.000000   2.508800e+05    250879.0      250880.000000   \n",
       "mean     2016.263166   2.613753e+04  126.235726           1.050690   \n",
       "std         5.463043   3.698795e+04   72.078083           0.998084   \n",
       "min      1995.000000   1.200000e+02         1.0           0.000000   \n",
       "25%      2013.000000   1.199000e+04        82.0           0.000000   \n",
       "50%      2018.000000   1.989000e+04       110.0           2.000000   \n",
       "75%      2020.000000   2.995000e+04       140.0           2.000000   \n",
       "max      2023.000000   5.890500e+06       735.0           2.000000   \n",
       "\n",
       "           fuel_type  mileage_in_km  \n",
       "count  250880.000000   2.508180e+05  \n",
       "mean        1.657506   8.536867e+04  \n",
       "std         1.230569   7.872133e+04  \n",
       "min         1.000000   0.000000e+00  \n",
       "25%         1.000000   2.495000e+04  \n",
       "50%         1.000000   6.751500e+04  \n",
       "75%         2.000000   1.265385e+05  \n",
       "max        11.000000   3.800000e+06  "
      ]
     },
     "execution_count": 53,
     "metadata": {},
     "output_type": "execute_result"
    }
   ],
   "source": [
    "df.describe()  # здесь было удовлетворение :)"
   ]
  },
  {
   "cell_type": "markdown",
   "id": "c6cd74ff",
   "metadata": {},
   "source": [
    "# Задание 1\n",
    "Проведите оценку данных по столбцам, посмотрите визуально на распределение данных, определите базовые статистики, где это возможно."
   ]
  },
  {
   "cell_type": "markdown",
   "id": "0901fb26",
   "metadata": {},
   "source": [
    "здесь и далее производится сравнение двух датасетов оригинального и измененного<br>\n",
    "в измененном датасете поивились пропуски."
   ]
  },
  {
   "cell_type": "code",
   "execution_count": 54,
   "id": "cf354cfd",
   "metadata": {},
   "outputs": [
    {
     "data": {
      "text/plain": [
       "Text(0, 0.5, 'Номер строки')"
      ]
     },
     "execution_count": 54,
     "metadata": {},
     "output_type": "execute_result"
    },
    {
     "data": {
      "image/png": "[encoded data removed]",
      "text/plain": [
       "<Figure size 1000x500 with 1 Axes>"
      ]
     },
     "metadata": {},
     "output_type": "display_data"
    },
    {
     "data": {
      "image/png": "[encoded data removed]",
      "text/plain": [
       "<Figure size 1000x500 with 1 Axes>"
      ]
     },
     "metadata": {},
     "output_type": "display_data"
    }
   ],
   "source": [
    "plt.figure(figsize=(10, 5))\n",
    "plt.imshow(df.isna(), aspect=\"auto\", interpolation=\"nearest\", cmap=\"Blues\")\n",
    "plt.xlabel(\"Номер столбца\")\n",
    "plt.ylabel(\"Номер строки\")\n",
    "plt.figure(figsize=(10, 5))\n",
    "plt.imshow(df_original.isna(), aspect=\"auto\", interpolation=\"nearest\", cmap=\"Blues\")\n",
    "plt.xlabel(\"Номер столбца\")\n",
    "plt.ylabel(\"Номер строки\")"
   ]
  },
  {
   "cell_type": "markdown",
   "id": "3918ca59",
   "metadata": {},
   "source": [
    "Ниже мы наблюдаем, что в столбце mileage_in_km данные записывались в разном формате и поэтому он имеет максимальное кол-во уникальных признаков."
   ]
  },
  {
   "cell_type": "code",
   "execution_count": 71,
   "id": "2837cb0c",
   "metadata": {},
   "outputs": [
    {
     "data": {
      "text/plain": [
       "<Axes: title={'center': 'Количество уникальных значений по каждому признаку'}>"
      ]
     },
     "execution_count": 71,
     "metadata": {},
     "output_type": "execute_result"
    },
    {
     "data": {
      "image/png": "[encoded data removed]",
      "text/plain": [
       "<Figure size 1000x500 with 1 Axes>"
      ]
     },
     "metadata": {},
     "output_type": "display_data"
    }
   ],
   "source": [
    "unique_values = df.select_dtypes(include=\"number\").nunique().sort_values()\n",
    "unique_values.plot.bar(\n",
    "    logy=True,\n",
    "    figsize=(10, 5),\n",
    "    title=\"Количество уникальных значений по каждому признаку\",\n",
    ")"
   ]
  },
  {
   "cell_type": "code",
   "execution_count": 65,
   "id": "7e018b3b",
   "metadata": {},
   "outputs": [
    {
     "data": {
      "image/png": "[encoded data removed]",
      "text/plain": [
       "<Figure size 900x900 with 1 Axes>"
      ]
     },
     "metadata": {},
     "output_type": "display_data"
    }
   ],
   "source": [
    "plt.figure(figsize=(9, 9))\n",
    "sns.countplot(data=df, y=\"brand\", order=df[\"brand\"].value_counts().index)\n",
    "plt.title(\"Бренды по убыванию\")\n",
    "plt.xlabel(\"Бренды кол-во\")\n",
    "plt.show()"
   ]
  },
  {
   "cell_type": "code",
   "execution_count": 70,
   "id": "62ce76b7",
   "metadata": {},
   "outputs": [
    {
     "data": {
      "text/plain": [
       "transmission_type\n",
       "2    0.524713\n",
       "0    0.474023\n",
       "1    0.001264\n",
       "Name: proportion, dtype: float64"
      ]
     },
     "metadata": {},
     "output_type": "display_data"
    },
    {
     "data": {
      "image/png": "[encoded data removed]",
      "text/plain": [
       "<Figure size 600x600 with 1 Axes>"
      ]
     },
     "metadata": {},
     "output_type": "display_data"
    }
   ],
   "source": [
    "plt.figure(figsize=(6, 6))\n",
    "\n",
    "data = df[\"transmission_type\"].value_counts(normalize=True)\n",
    "labels = [\"Manual\", \"Automatic\", \"Semi-automatic\"]\n",
    "colors = sns.color_palette(\"pastel\")\n",
    "display(data)\n",
    "plt.pie(data, labels=labels, colors=colors, autopct=\"%.0f%%\")\n",
    "plt.title(\"Доля коробок передач в авто\")\n",
    "plt.show()"
   ]
  },
  {
   "cell_type": "code",
   "execution_count": null,
   "id": "b5ed9b9e",
   "metadata": {},
   "outputs": [],
   "source": []
  }
 ],
 "metadata": {
  "kernelspec": {
   "display_name": "Python 3",
   "language": "python",
   "name": "python3"
  },
  "language_info": {
   "codemirror_mode": {
    "name": "ipython",
    "version": 3
   },
   "file_extension": ".py",
   "mimetype": "text/x-python",
   "name": "python",
   "nbconvert_exporter": "python",
   "pygments_lexer": "ipython3",
   "version": "3.11.5"
  }
 },
 "nbformat": 4,
 "nbformat_minor": 5
}
